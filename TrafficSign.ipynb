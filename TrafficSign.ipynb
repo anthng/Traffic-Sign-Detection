{
  "nbformat": 4,
  "nbformat_minor": 0,
  "metadata": {
    "colab": {
      "name": "TrafficSign.ipynb",
      "provenance": [],
      "collapsed_sections": [],
      "include_colab_link": true
    },
    "kernelspec": {
      "name": "python3",
      "display_name": "Python 3"
    },
    "accelerator": "GPU"
  },
  "cells": [
    {
      "cell_type": "markdown",
      "metadata": {
        "id": "view-in-github",
        "colab_type": "text"
      },
      "source": [
        "<a href=\"https://colab.research.google.com/github/thienan99dt/TrafficSignDetection/blob/master/TrafficSign.ipynb\" target=\"_parent\"><img src=\"https://colab.research.google.com/assets/colab-badge.svg\" alt=\"Open In Colab\"/></a>"
      ]
    },
    {
      "cell_type": "code",
      "metadata": {
        "id": "O_GgT4wgxEHc",
        "colab_type": "code",
        "colab": {
          "base_uri": "https://localhost:8080/",
          "height": 34
        },
        "outputId": "f687adf0-2509-49ca-b42d-d63e1150e791"
      },
      "source": [
        "from google.colab import drive\n",
        "drive.mount(\"/content/drive\")"
      ],
      "execution_count": 56,
      "outputs": [
        {
          "output_type": "stream",
          "text": [
            "Drive already mounted at /content/drive; to attempt to forcibly remount, call drive.mount(\"/content/drive\", force_remount=True).\n"
          ],
          "name": "stdout"
        }
      ]
    },
    {
      "cell_type": "code",
      "metadata": {
        "id": "ymVPSP87w9nN",
        "colab_type": "code",
        "colab": {}
      },
      "source": [
        "import tensorflow as tf\n",
        "import matplotlib.pyplot as plt\n",
        "import numpy as np\n",
        "\n",
        "from tensorflow.keras.models import Sequential, Model\n",
        "from tensorflow.keras.layers import BatchNormalization, Flatten, Input, Dense, Conv2D, MaxPooling2D\n",
        "from tensorflow.keras import optimizers\n",
        "\n",
        "from sklearn.preprocessing import LabelBinarizer\n",
        "from tensorflow.keras.preprocessing.image import ImageDataGenerator\n"
      ],
      "execution_count": 0,
      "outputs": []
    },
    {
      "cell_type": "code",
      "metadata": {
        "id": "CRlgyMaCxQk6",
        "colab_type": "code",
        "colab": {}
      },
      "source": [
        "PATH = '/content/drive/My Drive/TrafficSign/'\n",
        "data_folder = PATH + 'data'"
      ],
      "execution_count": 0,
      "outputs": []
    },
    {
      "cell_type": "code",
      "metadata": {
        "id": "0TAObO3mxaLs",
        "colab_type": "code",
        "colab": {}
      },
      "source": [
        "#!unzip -q /content/drive/My\\ Drive/TrafficSign/traffic-signs-data.zip -d $data_folder"
      ],
      "execution_count": 0,
      "outputs": []
    },
    {
      "cell_type": "code",
      "metadata": {
        "id": "CLzlta-CyGCT",
        "colab_type": "code",
        "colab": {}
      },
      "source": [
        "train_link = data_folder + '/train.p'\n",
        "valid_link = data_folder + '/valid.p'\n",
        "test_link = data_folder + '/test.p'"
      ],
      "execution_count": 0,
      "outputs": []
    },
    {
      "cell_type": "code",
      "metadata": {
        "id": "x3L2Yxpyyzhn",
        "colab_type": "code",
        "colab": {}
      },
      "source": [
        "import pickle\n",
        "\n",
        "with open(train_link, mode=\"rb\") as f:\n",
        "  train = pickle.load(f)\n",
        "\n",
        "with open(valid_link, mode=\"rb\") as f:\n",
        "  valid = pickle.load(f)\n",
        "  \n",
        "with open(test_link, mode=\"rb\") as f:\n",
        "  test = pickle.load(f)"
      ],
      "execution_count": 0,
      "outputs": []
    },
    {
      "cell_type": "code",
      "metadata": {
        "id": "lYToa9phzxMp",
        "colab_type": "code",
        "colab": {
          "base_uri": "https://localhost:8080/",
          "height": 34
        },
        "outputId": "762594cc-a327-46bb-d2d2-458a173f4c86"
      },
      "source": [
        "train['labels'][:10]"
      ],
      "execution_count": 64,
      "outputs": [
        {
          "output_type": "execute_result",
          "data": {
            "text/plain": [
              "array([41, 41, 41, 41, 41, 41, 41, 41, 41, 41], dtype=uint8)"
            ]
          },
          "metadata": {
            "tags": []
          },
          "execution_count": 64
        }
      ]
    },
    {
      "cell_type": "code",
      "metadata": {
        "id": "NxkwjwDCzdGZ",
        "colab_type": "code",
        "colab": {}
      },
      "source": [
        "X_train, y_train, X_valid, y_valid = train['features']/255.0, train['labels'], valid['features']/255.0, valid['labels']\n",
        "X_test, y_test = test['features']/255.0, test['labels']"
      ],
      "execution_count": 0,
      "outputs": []
    },
    {
      "cell_type": "code",
      "metadata": {
        "id": "B2_mSA96zk88",
        "colab_type": "code",
        "colab": {
          "base_uri": "https://localhost:8080/",
          "height": 283
        },
        "outputId": "58a5db7d-37b9-4001-a287-d57b07f1c09b"
      },
      "source": [
        "plt.imshow(X_train[39])"
      ],
      "execution_count": 67,
      "outputs": [
        {
          "output_type": "execute_result",
          "data": {
            "text/plain": [
              "<matplotlib.image.AxesImage at 0x7fc0b52b3fd0>"
            ]
          },
          "metadata": {
            "tags": []
          },
          "execution_count": 67
        },
        {
          "output_type": "display_data",
          "data": {
            "image/png": "[encoded data removed]",
            "text/plain": [
              "<Figure size 432x288 with 1 Axes>"
            ]
          },
          "metadata": {
            "tags": []
          }
        }
      ]
    },
    {
      "cell_type": "code",
      "metadata": {
        "id": "M1HDx0UX16Eq",
        "colab_type": "code",
        "colab": {
          "base_uri": "https://localhost:8080/",
          "height": 34
        },
        "outputId": "2a920ad9-7784-485b-d3ab-8c0b0c8883d0"
      },
      "source": [
        "np.array(X_train[39]).shape"
      ],
      "execution_count": 68,
      "outputs": [
        {
          "output_type": "execute_result",
          "data": {
            "text/plain": [
              "(32, 32, 3)"
            ]
          },
          "metadata": {
            "tags": []
          },
          "execution_count": 68
        }
      ]
    },
    {
      "cell_type": "code",
      "metadata": {
        "id": "jhMGzmNV0fzV",
        "colab_type": "code",
        "colab": {}
      },
      "source": [
        "X_train = np.array(X_train)\n",
        "y_train = np.array(y_train)\n",
        "\n",
        "X_valid = np.array(X_valid)\n",
        "y_valid = np.array(y_valid)\n",
        "\n",
        "X_test = np.array(X_test)\n",
        "y_test = np.array(y_test)\n"
      ],
      "execution_count": 0,
      "outputs": []
    },
    {
      "cell_type": "code",
      "metadata": {
        "id": "dnd4Gabw_SN4",
        "colab_type": "code",
        "colab": {
          "base_uri": "https://localhost:8080/",
          "height": 54
        },
        "outputId": "d787bc55-d9c9-49ae-8303-322fd29e629f"
      },
      "source": [
        "class_names.values()"
      ],
      "execution_count": 101,
      "outputs": [
        {
          "output_type": "execute_result",
          "data": {
            "text/plain": [
              "dict_values(['Speed limit (20km/h)', 'Speed limit (30km/h)', 'Speed limit (50km/h)', 'Speed limit (60km/h)', 'Speed limit (70km/h)', 'Speed limit (80km/h)', 'End of speed limit (80km/h)', 'Speed limit (100km/h)', 'Speed limit (120km/h)', 'No passing', 'No passing for vehicles over 3.5 metric tons', 'Right-of-way at the next intersection', 'Priority road', 'Yield', 'Stop', 'No vehicles', 'Vehicles over 3.5 metric tons prohibited', 'No entry', 'General caution', 'Dangerous curve to the left', 'Dangerous curve to the right', 'Double curve', 'Bumpy road', 'Slippery road', 'Road narrows on the right', 'Road work', 'Traffic signals', 'Pedestrians', 'Children crossing', 'Bicycles crossing', 'Beware of ice/snow', 'Wild animals crossing', 'End of all speed and passing limits', 'Turn right ahead', 'Turn left ahead', 'Ahead only', 'Go straight or right', 'Go straight or left', 'Keep right', 'Keep left', 'Roundabout mandatory', 'End of no passing', 'End of no passing by vehicles over 3.5 metric tons'])"
            ]
          },
          "metadata": {
            "tags": []
          },
          "execution_count": 101
        }
      ]
    },
    {
      "cell_type": "code",
      "metadata": {
        "id": "a6MZoEho1Jm2",
        "colab_type": "code",
        "colab": {}
      },
      "source": [
        "class_names = {0: 'Speed limit (20km/h)',\n",
        " 1: 'Speed limit (30km/h)',\n",
        " 2: 'Speed limit (50km/h)',\n",
        " 3: 'Speed limit (60km/h)',\n",
        " 4: 'Speed limit (70km/h)',\n",
        " 5: 'Speed limit (80km/h)',\n",
        " 6: 'End of speed limit (80km/h)',\n",
        " 7: 'Speed limit (100km/h)',\n",
        " 8: 'Speed limit (120km/h)',\n",
        " 9: 'No passing',\n",
        " 10: 'No passing for vehicles over 3.5 metric tons',\n",
        " 11: 'Right-of-way at the next intersection',\n",
        " 12: 'Priority road',\n",
        " 13: 'Yield',\n",
        " 14: 'Stop',\n",
        " 15: 'No vehicles',\n",
        " 16: 'Vehicles over 3.5 metric tons prohibited',\n",
        " 17: 'No entry',\n",
        " 18: 'General caution',\n",
        " 19: 'Dangerous curve to the left',\n",
        " 20: 'Dangerous curve to the right',\n",
        " 21: 'Double curve',\n",
        " 22: 'Bumpy road',\n",
        " 23: 'Slippery road',\n",
        " 24: 'Road narrows on the right',\n",
        " 25: 'Road work',\n",
        " 26: 'Traffic signals',\n",
        " 27: 'Pedestrians',\n",
        " 28: 'Children crossing',\n",
        " 29: 'Bicycles crossing',\n",
        " 30: 'Beware of ice/snow',\n",
        " 31: 'Wild animals crossing',\n",
        " 32: 'End of all speed and passing limits',\n",
        " 33: 'Turn right ahead',\n",
        " 34: 'Turn left ahead',\n",
        " 35: 'Ahead only',\n",
        " 36: 'Go straight or right',\n",
        " 37: 'Go straight or left',\n",
        " 38: 'Keep right',\n",
        " 39: 'Keep left',\n",
        " 40: 'Roundabout mandatory',\n",
        " 41: 'End of no passing',\n",
        " 42: 'End of no passing by vehicles over 3.5 metric tons'}"
      ],
      "execution_count": 0,
      "outputs": []
    },
    {
      "cell_type": "code",
      "metadata": {
        "id": "8gjfC_0B1Niu",
        "colab_type": "code",
        "colab": {}
      },
      "source": [
        "from sklearn.utils import shuffle\n",
        "\n",
        "X_train, y_train = shuffle(X_train, y_train)\n",
        "\n",
        "X_valid, y_valid = shuffle(X_valid, y_valid)\n",
        "\n",
        "X_test, y_test = shuffle(X_test, y_test)"
      ],
      "execution_count": 0,
      "outputs": []
    },
    {
      "cell_type": "code",
      "metadata": {
        "id": "2stPZ3qw1kbs",
        "colab_type": "code",
        "colab": {
          "base_uri": "https://localhost:8080/",
          "height": 34
        },
        "outputId": "59c53f7b-6cdc-4973-8ace-19c383919ea4"
      },
      "source": [
        "class_names[y_train[4]]"
      ],
      "execution_count": 72,
      "outputs": [
        {
          "output_type": "execute_result",
          "data": {
            "text/plain": [
              "'Speed limit (100km/h)'"
            ]
          },
          "metadata": {
            "tags": []
          },
          "execution_count": 72
        }
      ]
    },
    {
      "cell_type": "code",
      "metadata": {
        "id": "Y5LqNLTPIlIS",
        "colab_type": "code",
        "colab": {}
      },
      "source": [
        "labels = [v for k,v in class_names.items()]"
      ],
      "execution_count": 0,
      "outputs": []
    },
    {
      "cell_type": "code",
      "metadata": {
        "id": "WHQL9NQ54ahR",
        "colab_type": "code",
        "colab": {}
      },
      "source": [
        "lb = LabelBinarizer()\n",
        "y_train = lb.fit_transform(y_train)\n",
        "y_valid = lb.fit_transform(y_valid)\n",
        "y_test = lb.fit_transform(y_test)\n"
      ],
      "execution_count": 0,
      "outputs": []
    },
    {
      "cell_type": "code",
      "metadata": {
        "id": "3u8dT5Lw1nc8",
        "colab_type": "code",
        "colab": {}
      },
      "source": [
        "width = 32\n",
        "height= 32\n",
        "num_classes = len(class_names)\n",
        "input_shape = (width,height,3)"
      ],
      "execution_count": 0,
      "outputs": []
    },
    {
      "cell_type": "code",
      "metadata": {
        "id": "BycZQ2hS4pqt",
        "colab_type": "code",
        "colab": {}
      },
      "source": [
        "aug = ImageDataGenerator(rotation_range=15, zoom_range=0.15, width_shift_range=0.2, height_shift_range=0.2, shear_range=0.15, horizontal_flip=True, fill_mode=\"nearest\")"
      ],
      "execution_count": 0,
      "outputs": []
    },
    {
      "cell_type": "code",
      "metadata": {
        "id": "_kuNwTQb14qH",
        "colab_type": "code",
        "colab": {
          "base_uri": "https://localhost:8080/",
          "height": 520
        },
        "outputId": "68845496-6334-4573-8f6e-07469b8868d4"
      },
      "source": [
        "model = Sequential()\n",
        "model.add(Conv2D(28, 6, padding=\"same\", activation = 'relu',input_shape=input_shape))\n",
        "model.add(BatchNormalization())\n",
        "model.add(MaxPooling2D(pool_size=(2, 2), strides=(2, 2)))\n",
        "model.add(Conv2D(10, 6, padding=\"same\", activation = 'relu',input_shape=input_shape))\n",
        "model.add(MaxPooling2D(pool_size=(2, 2), strides=(2, 2)))\n",
        "model.add(Flatten())\n",
        "model.add(Dense(128, activation = 'relu'))\n",
        "model.add(BatchNormalization())\n",
        "model.add(Dense(64, activation = 'relu'))\n",
        "model.add(Dense(num_classes, activation = 'softmax'))\n",
        "model.compile(optimizer='adam', loss=\"categorical_crossentropy\",metrics=[\"accuracy\"])\n",
        "model.summary()"
      ],
      "execution_count": 196,
      "outputs": [
        {
          "output_type": "stream",
          "text": [
            "Model: \"sequential_8\"\n",
            "_________________________________________________________________\n",
            "Layer (type)                 Output Shape              Param #   \n",
            "=================================================================\n",
            "conv2d_15 (Conv2D)           (None, 32, 32, 28)        3052      \n",
            "_________________________________________________________________\n",
            "batch_normalization_10 (Batc (None, 32, 32, 28)        112       \n",
            "_________________________________________________________________\n",
            "max_pooling2d_14 (MaxPooling (None, 16, 16, 28)        0         \n",
            "_________________________________________________________________\n",
            "conv2d_16 (Conv2D)           (None, 16, 16, 10)        10090     \n",
            "_________________________________________________________________\n",
            "max_pooling2d_15 (MaxPooling (None, 8, 8, 10)          0         \n",
            "_________________________________________________________________\n",
            "flatten_7 (Flatten)          (None, 640)               0         \n",
            "_________________________________________________________________\n",
            "dense_16 (Dense)             (None, 128)               82048     \n",
            "_________________________________________________________________\n",
            "batch_normalization_11 (Batc (None, 128)               512       \n",
            "_________________________________________________________________\n",
            "dense_17 (Dense)             (None, 64)                8256      \n",
            "_________________________________________________________________\n",
            "dense_18 (Dense)             (None, 43)                2795      \n",
            "=================================================================\n",
            "Total params: 106,865\n",
            "Trainable params: 106,553\n",
            "Non-trainable params: 312\n",
            "_________________________________________________________________\n"
          ],
          "name": "stdout"
        }
      ]
    },
    {
      "cell_type": "code",
      "metadata": {
        "id": "AdRxjU-N437f",
        "colab_type": "code",
        "colab": {}
      },
      "source": [
        "batch_size = 128\n",
        "num_epochs = 15"
      ],
      "execution_count": 0,
      "outputs": []
    },
    {
      "cell_type": "code",
      "metadata": {
        "id": "ZU3MO5Jf4zXO",
        "colab_type": "code",
        "colab": {
          "base_uri": "https://localhost:8080/",
          "height": 1000
        },
        "outputId": "24b52ce8-1046-4be0-a9ad-526182fe12b8"
      },
      "source": [
        "history = model.fit_generator(aug.flow(X_train, y_train, batch_size=batch_size), epochs=num_epochs, steps_per_epoch=X_train.shape[0]//batch_size, validation_data=(X_valid,y_valid),verbose =1)"
      ],
      "execution_count": 198,
      "outputs": [
        {
          "output_type": "stream",
          "text": [
            "Epoch 1/15\n",
            "270/271 [============================>.] - ETA: 0s - loss: 2.6563 - acc: 0.2658Epoch 1/15\n",
            "4410/271 [========================================================================================================================================================================================================================================================================================================================================================================================================================================================================================================] - 1s 123us/sample - loss: 3.1825 - acc: 0.1599\n",
            "271/271 [==============================] - 25s 92ms/step - loss: 2.6529 - acc: 0.2666 - val_loss: 3.1598 - val_acc: 0.1599\n",
            "Epoch 2/15\n",
            "270/271 [============================>.] - ETA: 0s - loss: 1.5917 - acc: 0.4979Epoch 1/15\n",
            "4410/271 [========================================================================================================================================================================================================================================================================================================================================================================================================================================================================================================] - 0s 85us/sample - loss: 1.8731 - acc: 0.4417\n",
            "271/271 [==============================] - 24s 89ms/step - loss: 1.5906 - acc: 0.4981 - val_loss: 1.8230 - val_acc: 0.4417\n",
            "Epoch 3/15\n",
            "270/271 [============================>.] - ETA: 0s - loss: 1.2226 - acc: 0.6028Epoch 1/15\n",
            "4410/271 [========================================================================================================================================================================================================================================================================================================================================================================================================================================================================================================] - 0s 85us/sample - loss: 1.4534 - acc: 0.5481\n",
            "271/271 [==============================] - 24s 88ms/step - loss: 1.2228 - acc: 0.6026 - val_loss: 1.4896 - val_acc: 0.5481\n",
            "Epoch 4/15\n",
            "270/271 [============================>.] - ETA: 0s - loss: 1.0143 - acc: 0.6638Epoch 1/15\n",
            "4410/271 [========================================================================================================================================================================================================================================================================================================================================================================================================================================================================================================] - 0s 87us/sample - loss: 1.4273 - acc: 0.5764\n",
            "271/271 [==============================] - 24s 88ms/step - loss: 1.0131 - acc: 0.6642 - val_loss: 1.4548 - val_acc: 0.5764\n",
            "Epoch 5/15\n",
            "270/271 [============================>.] - ETA: 0s - loss: 0.8667 - acc: 0.7118Epoch 1/15\n",
            "4410/271 [========================================================================================================================================================================================================================================================================================================================================================================================================================================================================================================] - 0s 85us/sample - loss: 1.3840 - acc: 0.6014\n",
            "271/271 [==============================] - 24s 88ms/step - loss: 0.8671 - acc: 0.7117 - val_loss: 1.4752 - val_acc: 0.6014\n",
            "Epoch 6/15\n",
            "270/271 [============================>.] - ETA: 0s - loss: 0.7577 - acc: 0.7437Epoch 1/15\n",
            "4410/271 [========================================================================================================================================================================================================================================================================================================================================================================================================================================================================================================] - 0s 86us/sample - loss: 1.0340 - acc: 0.6576\n",
            "271/271 [==============================] - 24s 88ms/step - loss: 0.7574 - acc: 0.7439 - val_loss: 1.1831 - val_acc: 0.6576\n",
            "Epoch 7/15\n",
            "270/271 [============================>.] - ETA: 0s - loss: 0.6731 - acc: 0.7705Epoch 1/15\n",
            "4410/271 [========================================================================================================================================================================================================================================================================================================================================================================================================================================================================================================] - 0s 82us/sample - loss: 1.0662 - acc: 0.6361\n",
            "271/271 [==============================] - 24s 88ms/step - loss: 0.6730 - acc: 0.7704 - val_loss: 1.2209 - val_acc: 0.6361\n",
            "Epoch 8/15\n",
            "270/271 [============================>.] - ETA: 0s - loss: 0.6113 - acc: 0.7916Epoch 1/15\n",
            "4410/271 [========================================================================================================================================================================================================================================================================================================================================================================================================================================================================================================] - 0s 87us/sample - loss: 1.5920 - acc: 0.5844\n",
            "271/271 [==============================] - 24s 88ms/step - loss: 0.6110 - acc: 0.7916 - val_loss: 1.5821 - val_acc: 0.5844\n",
            "Epoch 9/15\n",
            "270/271 [============================>.] - ETA: 0s - loss: 0.5533 - acc: 0.8122Epoch 1/15\n",
            "4410/271 [========================================================================================================================================================================================================================================================================================================================================================================================================================================================================================================] - 0s 85us/sample - loss: 1.0950 - acc: 0.6905\n",
            "271/271 [==============================] - 24s 89ms/step - loss: 0.5532 - acc: 0.8124 - val_loss: 1.2173 - val_acc: 0.6905\n",
            "Epoch 10/15\n",
            "270/271 [============================>.] - ETA: 0s - loss: 0.5098 - acc: 0.8262Epoch 1/15\n",
            "4410/271 [========================================================================================================================================================================================================================================================================================================================================================================================================================================================================================================] - 0s 90us/sample - loss: 1.0387 - acc: 0.7057\n",
            "271/271 [==============================] - 24s 88ms/step - loss: 0.5101 - acc: 0.8261 - val_loss: 1.1352 - val_acc: 0.7057\n",
            "Epoch 11/15\n",
            "270/271 [============================>.] - ETA: 0s - loss: 0.4755 - acc: 0.8370Epoch 1/15\n",
            "4410/271 [========================================================================================================================================================================================================================================================================================================================================================================================================================================================================================================] - 0s 88us/sample - loss: 1.4334 - acc: 0.6163\n",
            "271/271 [==============================] - 24s 87ms/step - loss: 0.4756 - acc: 0.8370 - val_loss: 1.4854 - val_acc: 0.6163\n",
            "Epoch 12/15\n",
            "270/271 [============================>.] - ETA: 0s - loss: 0.4561 - acc: 0.8470Epoch 1/15\n",
            "4410/271 [========================================================================================================================================================================================================================================================================================================================================================================================================================================================================================================] - 0s 84us/sample - loss: 0.8230 - acc: 0.7372\n",
            "271/271 [==============================] - 24s 88ms/step - loss: 0.4561 - acc: 0.8471 - val_loss: 0.9968 - val_acc: 0.7372\n",
            "Epoch 13/15\n",
            "270/271 [============================>.] - ETA: 0s - loss: 0.4315 - acc: 0.8539Epoch 1/15\n",
            "4410/271 [========================================================================================================================================================================================================================================================================================================================================================================================================================================================================================================] - 0s 82us/sample - loss: 0.8435 - acc: 0.7438\n",
            "271/271 [==============================] - 24s 88ms/step - loss: 0.4319 - acc: 0.8538 - val_loss: 0.9618 - val_acc: 0.7438\n",
            "Epoch 14/15\n",
            "270/271 [============================>.] - ETA: 0s - loss: 0.4058 - acc: 0.8619Epoch 1/15\n",
            "4410/271 [========================================================================================================================================================================================================================================================================================================================================================================================================================================================================================================] - 0s 85us/sample - loss: 1.0201 - acc: 0.7088\n",
            "271/271 [==============================] - 24s 88ms/step - loss: 0.4057 - acc: 0.8619 - val_loss: 1.0740 - val_acc: 0.7088\n",
            "Epoch 15/15\n",
            "270/271 [============================>.] - ETA: 0s - loss: 0.3819 - acc: 0.8687Epoch 1/15\n",
            "4410/271 [========================================================================================================================================================================================================================================================================================================================================================================================================================================================================================================] - 0s 84us/sample - loss: 0.8662 - acc: 0.7490\n",
            "271/271 [==============================] - 24s 88ms/step - loss: 0.3819 - acc: 0.8687 - val_loss: 1.0349 - val_acc: 0.7490\n"
          ],
          "name": "stdout"
        }
      ]
    },
    {
      "cell_type": "code",
      "metadata": {
        "id": "3ueAcTA4Dn4V",
        "colab_type": "code",
        "colab": {}
      },
      "source": [
        "predictions = model.predict_classes(X_test, batch_size = batch_size)"
      ],
      "execution_count": 0,
      "outputs": []
    },
    {
      "cell_type": "code",
      "metadata": {
        "id": "ACLpXBCiGLg2",
        "colab_type": "code",
        "colab": {
          "base_uri": "https://localhost:8080/",
          "height": 34
        },
        "outputId": "fbeb2ede-f54c-40ad-8741-9c3bead2395a"
      },
      "source": [
        "predictions"
      ],
      "execution_count": 200,
      "outputs": [
        {
          "output_type": "execute_result",
          "data": {
            "text/plain": [
              "array([ 8,  5, 16, ..., 13, 17, 11])"
            ]
          },
          "metadata": {
            "tags": []
          },
          "execution_count": 200
        }
      ]
    },
    {
      "cell_type": "code",
      "metadata": {
        "id": "4BJtUrer7BN4",
        "colab_type": "code",
        "colab": {
          "base_uri": "https://localhost:8080/",
          "height": 916
        },
        "outputId": "29862d5d-003a-4b8f-f1d7-604ac541ec06"
      },
      "source": [
        "print(classification_report(y_test.argmax(axis=1), predictions))"
      ],
      "execution_count": 201,
      "outputs": [
        {
          "output_type": "stream",
          "text": [
            "              precision    recall  f1-score   support\n",
            "\n",
            "           0       0.41      0.35      0.38        60\n",
            "           1       0.63      0.86      0.72       720\n",
            "           2       0.77      0.68      0.72       750\n",
            "           3       0.88      0.47      0.61       450\n",
            "           4       0.68      0.90      0.77       660\n",
            "           5       0.63      0.44      0.52       630\n",
            "           6       0.65      0.65      0.65       150\n",
            "           7       0.65      0.67      0.66       450\n",
            "           8       0.64      0.73      0.68       450\n",
            "           9       0.96      0.93      0.94       480\n",
            "          10       0.87      0.92      0.89       660\n",
            "          11       0.89      0.88      0.88       420\n",
            "          12       0.94      0.91      0.92       690\n",
            "          13       0.99      0.95      0.97       720\n",
            "          14       0.95      0.97      0.96       270\n",
            "          15       0.99      0.97      0.98       210\n",
            "          16       0.99      0.99      0.99       150\n",
            "          17       0.97      0.73      0.83       360\n",
            "          18       0.66      0.68      0.67       390\n",
            "          19       0.23      0.65      0.34        60\n",
            "          20       0.09      0.04      0.06        90\n",
            "          21       0.68      0.61      0.64        90\n",
            "          22       0.96      0.44      0.61       120\n",
            "          23       0.63      0.36      0.46       150\n",
            "          24       0.46      0.51      0.49        90\n",
            "          25       0.68      0.73      0.70       480\n",
            "          26       0.50      0.89      0.64       180\n",
            "          27       0.56      0.48      0.52        60\n",
            "          28       0.54      0.69      0.61       150\n",
            "          29       0.58      0.29      0.39        90\n",
            "          30       0.91      0.35      0.51       150\n",
            "          31       0.66      0.88      0.76       270\n",
            "          32       0.45      0.47      0.46        60\n",
            "          33       0.57      0.80      0.67       210\n",
            "          34       0.64      0.53      0.58       120\n",
            "          35       0.76      0.81      0.78       390\n",
            "          36       0.33      0.19      0.24       120\n",
            "          37       0.38      0.08      0.14        60\n",
            "          38       0.87      0.84      0.86       690\n",
            "          39       0.71      0.33      0.45        90\n",
            "          40       0.66      0.96      0.78        90\n",
            "          41       0.52      0.72      0.61        60\n",
            "          42       0.45      0.31      0.37        90\n",
            "\n",
            "    accuracy                           0.74     12630\n",
            "   macro avg       0.67      0.64      0.64     12630\n",
            "weighted avg       0.76      0.74      0.74     12630\n",
            "\n"
          ],
          "name": "stdout"
        }
      ]
    },
    {
      "cell_type": "code",
      "metadata": {
        "id": "hemM2_0FJ2I6",
        "colab_type": "code",
        "colab": {
          "base_uri": "https://localhost:8080/",
          "height": 34
        },
        "outputId": "c4f06f55-3823-459e-8c1f-a36a4627ec0f"
      },
      "source": [
        "len(X_test)"
      ],
      "execution_count": 202,
      "outputs": [
        {
          "output_type": "execute_result",
          "data": {
            "text/plain": [
              "12630"
            ]
          },
          "metadata": {
            "tags": []
          },
          "execution_count": 202
        }
      ]
    },
    {
      "cell_type": "code",
      "metadata": {
        "id": "GgXs5ZvmSfuF",
        "colab_type": "code",
        "colab": {
          "base_uri": "https://localhost:8080/",
          "height": 34
        },
        "outputId": "71b7651d-2afc-49cf-b1fe-a1adb2707882"
      },
      "source": [
        ""
      ],
      "execution_count": 209,
      "outputs": [
        {
          "output_type": "execute_result",
          "data": {
            "text/plain": [
              "9"
            ]
          },
          "metadata": {
            "tags": []
          },
          "execution_count": 209
        }
      ]
    },
    {
      "cell_type": "code",
      "metadata": {
        "id": "KgTpRgW0_g1s",
        "colab_type": "code",
        "colab": {
          "base_uri": "https://localhost:8080/",
          "height": 283
        },
        "outputId": "79a40e92-00f4-405d-f66a-c94b905b7890"
      },
      "source": [
        "i = 1234\n",
        "result1 = model.predict_classes(X_test[i:i+1])\n",
        "plt.imshow(X_test[i], cmap = plt.cm.binary)\n",
        "print(\"My prediction: \",labels[int(result1)])"
      ],
      "execution_count": 213,
      "outputs": [
        {
          "output_type": "stream",
          "text": [
            "My prediction:  Turn right ahead\n"
          ],
          "name": "stdout"
        },
        {
          "output_type": "display_data",
          "data": {
            "image/png": "[encoded data removed]",
            "text/plain": [
              "<Figure size 432x288 with 1 Axes>"
            ]
          },
          "metadata": {
            "tags": []
          }
        }
      ]
    },
    {
      "cell_type": "code",
      "metadata": {
        "id": "3zbS1r-lPf3e",
        "colab_type": "code",
        "colab": {
          "base_uri": "https://localhost:8080/",
          "height": 313
        },
        "outputId": "66d24ffa-39c7-42c4-cc6b-10d403ba86ec"
      },
      "source": [
        "n = np.arange(0, num_epochs)\n",
        "plt.plot(n, history.history[\"loss\"], label=\"train_loss\")\n",
        "plt.plot(n, history.history[\"val_loss\"], label=\"val_loss\")\n",
        "plt.plot(n, history.history[\"acc\"], label=\"train_acc\")\n",
        "plt.plot(n, history.history[\"val_acc\"], label=\"val_acc\")\n",
        "plt.title(\"Curve\")\n",
        "plt.xlabel(\"Epochs\")\n",
        "plt.ylabel(\"Loss/Accuracy\")\n",
        "plt.legend(loc=\"lower left\")"
      ],
      "execution_count": 206,
      "outputs": [
        {
          "output_type": "execute_result",
          "data": {
            "text/plain": [
              "<matplotlib.legend.Legend at 0x7fc057085860>"
            ]
          },
          "metadata": {
            "tags": []
          },
          "execution_count": 206
        },
        {
          "output_type": "display_data",
          "data": {
            "image/png": "[encoded data removed]",
            "text/plain": [
              "<Figure size 432x288 with 1 Axes>"
            ]
          },
          "metadata": {
            "tags": []
          }
        }
      ]
    },
    {
      "cell_type": "code",
      "metadata": {
        "id": "KZmosuQJRuG1",
        "colab_type": "code",
        "colab": {}
      },
      "source": [
        ""
      ],
      "execution_count": 0,
      "outputs": []
    }
  ]
}