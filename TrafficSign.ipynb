{
  "nbformat": 4,
  "nbformat_minor": 0,
  "metadata": {
    "colab": {
      "name": "TrafficSign.ipynb",
      "provenance": [],
      "collapsed_sections": [],
      "include_colab_link": true
    },
    "kernelspec": {
      "name": "python3",
      "display_name": "Python 3"
    },
    "accelerator": "GPU"
  },
  "cells": [
    {
      "cell_type": "markdown",
      "metadata": {
        "id": "view-in-github",
        "colab_type": "text"
      },
      "source": [
        "<a href=\"https://colab.research.google.com/github/thienan99dt/TrafficSignDetection/blob/master/TrafficSign.ipynb\" target=\"_parent\"><img src=\"https://colab.research.google.com/assets/colab-badge.svg\" alt=\"Open In Colab\"/></a>"
      ]
    },
    {
      "cell_type": "code",
      "metadata": {
        "id": "O_GgT4wgxEHc",
        "colab_type": "code",
        "outputId": "647894bb-1bf3-4b22-e57d-615ec2ab1416",
        "colab": {
          "base_uri": "https://localhost:8080/",
          "height": 126
        }
      },
      "source": [
        "from google.colab import drive\n",
        "drive.mount(\"/content/drive\")"
      ],
      "execution_count": 1,
      "outputs": [
        {
          "output_type": "stream",
          "text": [
            "Go to this URL in a browser: https://accounts.google.com/o/oauth2/auth?client_id=947318989803-6bn6qk8qdgf4n4g3pfee6491hc0brc4i.apps.googleusercontent.com&redirect_uri=urn%3aietf%3awg%3aoauth%3a2.0%3aoob&response_type=code&scope=email%20https%3a%2f%2fwww.googleapis.com%2fauth%2fdocs.test%20https%3a%2f%2fwww.googleapis.com%2fauth%2fdrive%20https%3a%2f%2fwww.googleapis.com%2fauth%2fdrive.photos.readonly%20https%3a%2f%2fwww.googleapis.com%2fauth%2fpeopleapi.readonly\n",
            "\n",
            "Enter your authorization code:\n",
            "··········\n",
            "Mounted at /content/drive\n"
          ],
          "name": "stdout"
        }
      ]
    },
    {
      "cell_type": "code",
      "metadata": {
        "id": "ymVPSP87w9nN",
        "colab_type": "code",
        "colab": {
          "base_uri": "https://localhost:8080/",
          "height": 63
        },
        "outputId": "0ee01eca-7cc9-4a41-dbe6-d3d8f57a48b1"
      },
      "source": [
        "import tensorflow as tf\n",
        "import matplotlib.pyplot as plt\n",
        "import numpy as np\n",
        "\n",
        "from tensorflow.keras.models import Sequential, Model\n",
        "from tensorflow.keras.layers import BatchNormalization, Flatten, Input, Dense, Conv2D, MaxPooling2D\n",
        "from tensorflow.keras import optimizers\n",
        "\n",
        "from sklearn.preprocessing import LabelBinarizer\n",
        "from tensorflow.keras.preprocessing.image import ImageDataGenerator\n"
      ],
      "execution_count": 2,
      "outputs": [
        {
          "output_type": "display_data",
          "data": {
            "text/html": [
              "<p style=\"color: red;\">\n",
              "The default version of TensorFlow in Colab will soon switch to TensorFlow 2.x.<br>\n",
              "We recommend you <a href=\"https://www.tensorflow.org/guide/migrate\" target=\"_blank\">upgrade</a> now \n",
              "or ensure your notebook will continue to use TensorFlow 1.x via the <code>%tensorflow_version 1.x</code> magic:\n",
              "<a href=\"https://colab.research.google.com/notebooks/tensorflow_version.ipynb\" target=\"_blank\">more info</a>.</p>\n"
            ],
            "text/plain": [
              "<IPython.core.display.HTML object>"
            ]
          },
          "metadata": {
            "tags": []
          }
        }
      ]
    },
    {
      "cell_type": "code",
      "metadata": {
        "id": "CRlgyMaCxQk6",
        "colab_type": "code",
        "colab": {}
      },
      "source": [
        "PATH = '/content/drive/My Drive/TrafficSign/'\n",
        "data_folder = PATH + 'data'"
      ],
      "execution_count": 0,
      "outputs": []
    },
    {
      "cell_type": "code",
      "metadata": {
        "id": "0TAObO3mxaLs",
        "colab_type": "code",
        "colab": {}
      },
      "source": [
        "#!unzip -q /content/drive/My\\ Drive/TrafficSign/traffic-signs-data.zip -d $data_folder"
      ],
      "execution_count": 0,
      "outputs": []
    },
    {
      "cell_type": "code",
      "metadata": {
        "id": "CLzlta-CyGCT",
        "colab_type": "code",
        "colab": {}
      },
      "source": [
        "train_link = data_folder + '/train.p'\n",
        "valid_link = data_folder + '/valid.p'\n",
        "test_link = data_folder + '/test.p'"
      ],
      "execution_count": 0,
      "outputs": []
    },
    {
      "cell_type": "code",
      "metadata": {
        "id": "x3L2Yxpyyzhn",
        "colab_type": "code",
        "colab": {}
      },
      "source": [
        "import pickle\n",
        "\n",
        "with open(train_link, mode=\"rb\") as f:\n",
        "  train = pickle.load(f)\n",
        "\n",
        "with open(valid_link, mode=\"rb\") as f:\n",
        "  valid = pickle.load(f)\n",
        "  \n",
        "with open(test_link, mode=\"rb\") as f:\n",
        "  test = pickle.load(f)"
      ],
      "execution_count": 0,
      "outputs": []
    },
    {
      "cell_type": "code",
      "metadata": {
        "id": "lYToa9phzxMp",
        "colab_type": "code",
        "outputId": "762594cc-a327-46bb-d2d2-458a173f4c86",
        "colab": {
          "base_uri": "https://localhost:8080/",
          "height": 34
        }
      },
      "source": [
        "train['labels'][:10]"
      ],
      "execution_count": 0,
      "outputs": [
        {
          "output_type": "execute_result",
          "data": {
            "text/plain": [
              "array([41, 41, 41, 41, 41, 41, 41, 41, 41, 41], dtype=uint8)"
            ]
          },
          "metadata": {
            "tags": []
          },
          "execution_count": 64
        }
      ]
    },
    {
      "cell_type": "code",
      "metadata": {
        "id": "NxkwjwDCzdGZ",
        "colab_type": "code",
        "colab": {}
      },
      "source": [
        "X_train, y_train, X_valid, y_valid = train['features']/255.0, train['labels'], valid['features']/255.0, valid['labels']\n",
        "X_test, y_test = test['features']/255.0, test['labels']"
      ],
      "execution_count": 0,
      "outputs": []
    },
    {
      "cell_type": "code",
      "metadata": {
        "id": "B2_mSA96zk88",
        "colab_type": "code",
        "outputId": "a7573b2a-cf6a-418f-a2aa-6f2c6a6ca1f9",
        "colab": {
          "base_uri": "https://localhost:8080/",
          "height": 283
        }
      },
      "source": [
        "plt.imshow(X_train[39])"
      ],
      "execution_count": 8,
      "outputs": [
        {
          "output_type": "execute_result",
          "data": {
            "text/plain": [
              "<matplotlib.image.AxesImage at 0x7f3be90cdb70>"
            ]
          },
          "metadata": {
            "tags": []
          },
          "execution_count": 8
        },
        {
          "output_type": "display_data",
          "data": {
            "image/png": "[encoded data removed]",
            "text/plain": [
              "<Figure size 432x288 with 1 Axes>"
            ]
          },
          "metadata": {
            "tags": []
          }
        }
      ]
    },
    {
      "cell_type": "code",
      "metadata": {
        "id": "M1HDx0UX16Eq",
        "colab_type": "code",
        "outputId": "252b3250-01a7-43fb-bd9b-d3b77829725f",
        "colab": {
          "base_uri": "https://localhost:8080/",
          "height": 34
        }
      },
      "source": [
        "np.array(X_train[39]).shape"
      ],
      "execution_count": 9,
      "outputs": [
        {
          "output_type": "execute_result",
          "data": {
            "text/plain": [
              "(32, 32, 3)"
            ]
          },
          "metadata": {
            "tags": []
          },
          "execution_count": 9
        }
      ]
    },
    {
      "cell_type": "code",
      "metadata": {
        "id": "jhMGzmNV0fzV",
        "colab_type": "code",
        "colab": {}
      },
      "source": [
        "X_train = np.array(X_train)\n",
        "y_train = np.array(y_train)\n",
        "\n",
        "X_valid = np.array(X_valid)\n",
        "y_valid = np.array(y_valid)\n",
        "\n",
        "X_test = np.array(X_test)\n",
        "y_test = np.array(y_test)\n"
      ],
      "execution_count": 0,
      "outputs": []
    },
    {
      "cell_type": "code",
      "metadata": {
        "id": "a6MZoEho1Jm2",
        "colab_type": "code",
        "colab": {}
      },
      "source": [
        "class_names = {0: 'Speed limit (20km/h)',\n",
        " 1: 'Speed limit (30km/h)',\n",
        " 2: 'Speed limit (50km/h)',\n",
        " 3: 'Speed limit (60km/h)',\n",
        " 4: 'Speed limit (70km/h)',\n",
        " 5: 'Speed limit (80km/h)',\n",
        " 6: 'End of speed limit (80km/h)',\n",
        " 7: 'Speed limit (100km/h)',\n",
        " 8: 'Speed limit (120km/h)',\n",
        " 9: 'No passing',\n",
        " 10: 'No passing for vehicles over 3.5 metric tons',\n",
        " 11: 'Right-of-way at the next intersection',\n",
        " 12: 'Priority road',\n",
        " 13: 'Yield',\n",
        " 14: 'Stop',\n",
        " 15: 'No vehicles',\n",
        " 16: 'Vehicles over 3.5 metric tons prohibited',\n",
        " 17: 'No entry',\n",
        " 18: 'General caution',\n",
        " 19: 'Dangerous curve to the left',\n",
        " 20: 'Dangerous curve to the right',\n",
        " 21: 'Double curve',\n",
        " 22: 'Bumpy road',\n",
        " 23: 'Slippery road',\n",
        " 24: 'Road narrows on the right',\n",
        " 25: 'Road work',\n",
        " 26: 'Traffic signals',\n",
        " 27: 'Pedestrians',\n",
        " 28: 'Children crossing',\n",
        " 29: 'Bicycles crossing',\n",
        " 30: 'Beware of ice/snow',\n",
        " 31: 'Wild animals crossing',\n",
        " 32: 'End of all speed and passing limits',\n",
        " 33: 'Turn right ahead',\n",
        " 34: 'Turn left ahead',\n",
        " 35: 'Ahead only',\n",
        " 36: 'Go straight or right',\n",
        " 37: 'Go straight or left',\n",
        " 38: 'Keep right',\n",
        " 39: 'Keep left',\n",
        " 40: 'Roundabout mandatory',\n",
        " 41: 'End of no passing',\n",
        " 42: 'End of no passing by vehicles over 3.5 metric tons'}"
      ],
      "execution_count": 0,
      "outputs": []
    },
    {
      "cell_type": "code",
      "metadata": {
        "id": "8gjfC_0B1Niu",
        "colab_type": "code",
        "colab": {}
      },
      "source": [
        "from sklearn.utils import shuffle\n",
        "\n",
        "X_train, y_train = shuffle(X_train, y_train)\n",
        "\n",
        "X_valid, y_valid = shuffle(X_valid, y_valid)\n",
        "\n",
        "X_test, y_test = shuffle(X_test, y_test)"
      ],
      "execution_count": 0,
      "outputs": []
    },
    {
      "cell_type": "code",
      "metadata": {
        "id": "2stPZ3qw1kbs",
        "colab_type": "code",
        "outputId": "7e4b415a-af2b-4f58-c24f-3fcb3e5b46fc",
        "colab": {
          "base_uri": "https://localhost:8080/",
          "height": 34
        }
      },
      "source": [
        "class_names[y_train[4]]"
      ],
      "execution_count": 20,
      "outputs": [
        {
          "output_type": "execute_result",
          "data": {
            "text/plain": [
              "'Speed limit (30km/h)'"
            ]
          },
          "metadata": {
            "tags": []
          },
          "execution_count": 20
        }
      ]
    },
    {
      "cell_type": "code",
      "metadata": {
        "id": "Y5LqNLTPIlIS",
        "colab_type": "code",
        "colab": {}
      },
      "source": [
        "labels = [v for k,v in class_names.items()]"
      ],
      "execution_count": 0,
      "outputs": []
    },
    {
      "cell_type": "code",
      "metadata": {
        "id": "WHQL9NQ54ahR",
        "colab_type": "code",
        "colab": {}
      },
      "source": [
        "lb = LabelBinarizer()\n",
        "y_train = lb.fit_transform(y_train)\n",
        "y_valid = lb.fit_transform(y_valid)\n",
        "y_test = lb.fit_transform(y_test)\n"
      ],
      "execution_count": 0,
      "outputs": []
    },
    {
      "cell_type": "code",
      "metadata": {
        "id": "3u8dT5Lw1nc8",
        "colab_type": "code",
        "colab": {}
      },
      "source": [
        "width = 32\n",
        "height= 32\n",
        "num_classes = len(class_names)\n",
        "input_shape = (width,height,3)"
      ],
      "execution_count": 0,
      "outputs": []
    },
    {
      "cell_type": "code",
      "metadata": {
        "id": "BycZQ2hS4pqt",
        "colab_type": "code",
        "colab": {}
      },
      "source": [
        "aug = ImageDataGenerator(rotation_range=15, zoom_range=0.15, width_shift_range=0.2, height_shift_range=0.2, shear_range=0.15, horizontal_flip=True, fill_mode=\"nearest\")"
      ],
      "execution_count": 0,
      "outputs": []
    },
    {
      "cell_type": "code",
      "metadata": {
        "id": "_kuNwTQb14qH",
        "colab_type": "code",
        "outputId": "c5690054-ee0c-4183-c22b-bc7bf9efee22",
        "colab": {
          "base_uri": "https://localhost:8080/",
          "height": 592
        }
      },
      "source": [
        "model = Sequential()\n",
        "model.add(Conv2D(64, 3, padding=\"same\", activation = 'relu',input_shape=input_shape))\n",
        "model.add(BatchNormalization())\n",
        "model.add(MaxPooling2D(pool_size=(2, 2), strides=(2, 2)))\n",
        "model.add(Conv2D(32, 16, padding=\"same\", activation = 'relu',input_shape=input_shape))\n",
        "model.add(MaxPooling2D(pool_size=(2, 2), strides=(2, 2)))\n",
        "model.add(Conv2D(10, 16, padding=\"same\", activation = 'relu',input_shape=input_shape))\n",
        "model.add(MaxPooling2D(pool_size=(2, 2), strides=(2, 2)))\n",
        "model.add(Flatten())\n",
        "model.add(Dense(128, activation = 'relu'))\n",
        "model.add(BatchNormalization())\n",
        "model.add(Dense(64, activation = 'relu'))\n",
        "model.add(Dense(num_classes, activation = 'softmax'))\n",
        "model.compile(optimizer='sgd', loss=\"categorical_crossentropy\",metrics=[\"accuracy\"])\n",
        "model.summary()"
      ],
      "execution_count": 34,
      "outputs": [
        {
          "output_type": "stream",
          "text": [
            "Model: \"sequential_3\"\n",
            "_________________________________________________________________\n",
            "Layer (type)                 Output Shape              Param #   \n",
            "=================================================================\n",
            "conv2d_9 (Conv2D)            (None, 32, 32, 64)        1792      \n",
            "_________________________________________________________________\n",
            "batch_normalization_6 (Batch (None, 32, 32, 64)        256       \n",
            "_________________________________________________________________\n",
            "max_pooling2d_9 (MaxPooling2 (None, 16, 16, 64)        0         \n",
            "_________________________________________________________________\n",
            "conv2d_10 (Conv2D)           (None, 16, 16, 32)        524320    \n",
            "_________________________________________________________________\n",
            "max_pooling2d_10 (MaxPooling (None, 8, 8, 32)          0         \n",
            "_________________________________________________________________\n",
            "conv2d_11 (Conv2D)           (None, 8, 8, 10)          81930     \n",
            "_________________________________________________________________\n",
            "max_pooling2d_11 (MaxPooling (None, 4, 4, 10)          0         \n",
            "_________________________________________________________________\n",
            "flatten_3 (Flatten)          (None, 160)               0         \n",
            "_________________________________________________________________\n",
            "dense_9 (Dense)              (None, 128)               20608     \n",
            "_________________________________________________________________\n",
            "batch_normalization_7 (Batch (None, 128)               512       \n",
            "_________________________________________________________________\n",
            "dense_10 (Dense)             (None, 64)                8256      \n",
            "_________________________________________________________________\n",
            "dense_11 (Dense)             (None, 43)                2795      \n",
            "=================================================================\n",
            "Total params: 640,469\n",
            "Trainable params: 640,085\n",
            "Non-trainable params: 384\n",
            "_________________________________________________________________\n"
          ],
          "name": "stdout"
        }
      ]
    },
    {
      "cell_type": "code",
      "metadata": {
        "id": "AdRxjU-N437f",
        "colab_type": "code",
        "colab": {}
      },
      "source": [
        "batch_size = 64\n",
        "num_epochs = 30"
      ],
      "execution_count": 0,
      "outputs": []
    },
    {
      "cell_type": "code",
      "metadata": {
        "id": "ZU3MO5Jf4zXO",
        "colab_type": "code",
        "outputId": "f79bade5-619c-4cee-abcd-b57e0af2a241",
        "colab": {
          "base_uri": "https://localhost:8080/",
          "height": 1000
        }
      },
      "source": [
        "history = model.fit_generator(aug.flow(X_train, y_train, batch_size=batch_size), epochs=num_epochs, steps_per_epoch=X_train.shape[0]//batch_size, validation_data=(X_valid,y_valid),verbose =1)"
      ],
      "execution_count": 36,
      "outputs": [
        {
          "output_type": "stream",
          "text": [
            "Epoch 1/30\n",
            "542/543 [============================>.] - ETA: 0s - loss: 2.9111 - acc: 0.2213Epoch 1/30\n",
            "4410/543 [===================================================================================================================================================================================================================================================] - 1s 202us/sample - loss: 2.6895 - acc: 0.2741\n",
            "543/543 [==============================] - 30s 54ms/step - loss: 2.9100 - acc: 0.2214 - val_loss: 2.6302 - val_acc: 0.2741\n",
            "Epoch 2/30\n",
            "542/543 [============================>.] - ETA: 0s - loss: 1.9648 - acc: 0.4393Epoch 1/30\n",
            "4410/543 [===================================================================================================================================================================================================================================================] - 1s 145us/sample - loss: 1.7104 - acc: 0.4687\n",
            "543/543 [==============================] - 28s 52ms/step - loss: 1.9640 - acc: 0.4394 - val_loss: 1.7444 - val_acc: 0.4687\n",
            "Epoch 3/30\n",
            "542/543 [============================>.] - ETA: 0s - loss: 1.4472 - acc: 0.5689Epoch 1/30\n",
            "4410/543 [===================================================================================================================================================================================================================================================] - 1s 149us/sample - loss: 1.4135 - acc: 0.5338\n",
            "543/543 [==============================] - 29s 53ms/step - loss: 1.4468 - acc: 0.5690 - val_loss: 1.4778 - val_acc: 0.5338\n",
            "Epoch 4/30\n",
            "542/543 [============================>.] - ETA: 0s - loss: 1.1343 - acc: 0.6537Epoch 1/30\n",
            "4410/543 [===================================================================================================================================================================================================================================================] - 1s 147us/sample - loss: 1.1632 - acc: 0.6016\n",
            "543/543 [==============================] - 28s 52ms/step - loss: 1.1343 - acc: 0.6537 - val_loss: 1.3062 - val_acc: 0.6016\n",
            "Epoch 5/30\n",
            "542/543 [============================>.] - ETA: 0s - loss: 0.9215 - acc: 0.7178Epoch 1/30\n",
            "4410/543 [===================================================================================================================================================================================================================================================] - 1s 154us/sample - loss: 1.0067 - acc: 0.6351\n",
            "543/543 [==============================] - 29s 53ms/step - loss: 0.9213 - acc: 0.7180 - val_loss: 1.1397 - val_acc: 0.6351\n",
            "Epoch 6/30\n",
            "542/543 [============================>.] - ETA: 0s - loss: 0.7744 - acc: 0.7597Epoch 1/30\n",
            "4410/543 [===================================================================================================================================================================================================================================================] - 1s 151us/sample - loss: 1.0788 - acc: 0.6408\n",
            "543/543 [==============================] - 28s 52ms/step - loss: 0.7739 - acc: 0.7599 - val_loss: 1.1927 - val_acc: 0.6408\n",
            "Epoch 7/30\n",
            "542/543 [============================>.] - ETA: 0s - loss: 0.6596 - acc: 0.7937Epoch 1/30\n",
            "4410/543 [===================================================================================================================================================================================================================================================] - 1s 162us/sample - loss: 0.9512 - acc: 0.6658\n",
            "543/543 [==============================] - 29s 53ms/step - loss: 0.6590 - acc: 0.7941 - val_loss: 1.0252 - val_acc: 0.6658\n",
            "Epoch 8/30\n",
            "542/543 [============================>.] - ETA: 0s - loss: 0.5750 - acc: 0.8205Epoch 1/30\n",
            "4410/543 [===================================================================================================================================================================================================================================================] - 1s 165us/sample - loss: 0.8664 - acc: 0.6789\n",
            "543/543 [==============================] - 29s 53ms/step - loss: 0.5750 - acc: 0.8205 - val_loss: 0.9876 - val_acc: 0.6789\n",
            "Epoch 9/30\n",
            "542/543 [============================>.] - ETA: 0s - loss: 0.5083 - acc: 0.8396Epoch 1/30\n",
            "4410/543 [===================================================================================================================================================================================================================================================] - 1s 163us/sample - loss: 0.7390 - acc: 0.7383\n",
            "543/543 [==============================] - 28s 52ms/step - loss: 0.5082 - acc: 0.8397 - val_loss: 0.9119 - val_acc: 0.7383\n",
            "Epoch 10/30\n",
            "542/543 [============================>.] - ETA: 0s - loss: 0.4575 - acc: 0.8537Epoch 1/30\n",
            "4410/543 [===================================================================================================================================================================================================================================================] - 1s 158us/sample - loss: 0.7950 - acc: 0.7084\n",
            "543/543 [==============================] - 29s 53ms/step - loss: 0.4573 - acc: 0.8538 - val_loss: 0.9589 - val_acc: 0.7084\n",
            "Epoch 11/30\n",
            "542/543 [============================>.] - ETA: 0s - loss: 0.4084 - acc: 0.8704Epoch 1/30\n",
            "4410/543 [===================================================================================================================================================================================================================================================] - 1s 168us/sample - loss: 0.6866 - acc: 0.7594\n",
            "543/543 [==============================] - 29s 52ms/step - loss: 0.4080 - acc: 0.8705 - val_loss: 0.8570 - val_acc: 0.7594\n",
            "Epoch 12/30\n",
            "542/543 [============================>.] - ETA: 0s - loss: 0.3707 - acc: 0.8804Epoch 1/30\n",
            "4410/543 [===================================================================================================================================================================================================================================================] - 1s 166us/sample - loss: 0.7388 - acc: 0.7413\n",
            "543/543 [==============================] - 29s 53ms/step - loss: 0.3706 - acc: 0.8803 - val_loss: 0.8840 - val_acc: 0.7413\n",
            "Epoch 13/30\n",
            "542/543 [============================>.] - ETA: 0s - loss: 0.3392 - acc: 0.8933Epoch 1/30\n",
            "4410/543 [===================================================================================================================================================================================================================================================] - 1s 166us/sample - loss: 0.7921 - acc: 0.7474\n",
            "543/543 [==============================] - 29s 53ms/step - loss: 0.3391 - acc: 0.8934 - val_loss: 0.9444 - val_acc: 0.7474\n",
            "Epoch 14/30\n",
            "542/543 [============================>.] - ETA: 0s - loss: 0.3151 - acc: 0.9004Epoch 1/30\n",
            "4410/543 [===================================================================================================================================================================================================================================================] - 1s 169us/sample - loss: 0.8113 - acc: 0.7465\n",
            "543/543 [==============================] - 29s 53ms/step - loss: 0.3150 - acc: 0.9005 - val_loss: 0.9556 - val_acc: 0.7465\n",
            "Epoch 15/30\n",
            "542/543 [============================>.] - ETA: 0s - loss: 0.2920 - acc: 0.9054Epoch 1/30\n",
            "4410/543 [===================================================================================================================================================================================================================================================] - 1s 170us/sample - loss: 0.7906 - acc: 0.7526\n",
            "543/543 [==============================] - 29s 53ms/step - loss: 0.2919 - acc: 0.9055 - val_loss: 0.8924 - val_acc: 0.7526\n",
            "Epoch 16/30\n",
            "542/543 [============================>.] - ETA: 0s - loss: 0.2703 - acc: 0.9141Epoch 1/30\n",
            "4410/543 [===================================================================================================================================================================================================================================================] - 1s 166us/sample - loss: 0.8004 - acc: 0.7467\n",
            "543/543 [==============================] - 28s 52ms/step - loss: 0.2701 - acc: 0.9141 - val_loss: 0.9060 - val_acc: 0.7467\n",
            "Epoch 17/30\n",
            "542/543 [============================>.] - ETA: 0s - loss: 0.2577 - acc: 0.9168Epoch 1/30\n",
            "4410/543 [===================================================================================================================================================================================================================================================] - 1s 168us/sample - loss: 0.8735 - acc: 0.7512\n",
            "543/543 [==============================] - 28s 52ms/step - loss: 0.2576 - acc: 0.9168 - val_loss: 0.9892 - val_acc: 0.7512\n",
            "Epoch 18/30\n",
            "542/543 [============================>.] - ETA: 0s - loss: 0.2397 - acc: 0.9237Epoch 1/30\n",
            "4410/543 [===================================================================================================================================================================================================================================================] - 1s 151us/sample - loss: 0.6709 - acc: 0.7907\n",
            "543/543 [==============================] - 29s 53ms/step - loss: 0.2398 - acc: 0.9237 - val_loss: 0.7634 - val_acc: 0.7907\n",
            "Epoch 19/30\n",
            "542/543 [============================>.] - ETA: 0s - loss: 0.2285 - acc: 0.9263Epoch 1/30\n",
            "4410/543 [===================================================================================================================================================================================================================================================] - 1s 165us/sample - loss: 0.6650 - acc: 0.7773\n",
            "543/543 [==============================] - 28s 52ms/step - loss: 0.2285 - acc: 0.9263 - val_loss: 0.7862 - val_acc: 0.7773\n",
            "Epoch 20/30\n",
            "542/543 [============================>.] - ETA: 0s - loss: 0.2150 - acc: 0.9306Epoch 1/30\n",
            "4410/543 [===================================================================================================================================================================================================================================================] - 1s 164us/sample - loss: 0.6578 - acc: 0.7864\n",
            "543/543 [==============================] - 28s 52ms/step - loss: 0.2150 - acc: 0.9306 - val_loss: 0.8413 - val_acc: 0.7864\n",
            "Epoch 21/30\n",
            "542/543 [============================>.] - ETA: 0s - loss: 0.2078 - acc: 0.9323Epoch 1/30\n",
            "4410/543 [===================================================================================================================================================================================================================================================] - 1s 162us/sample - loss: 0.6528 - acc: 0.7909\n",
            "543/543 [==============================] - 28s 52ms/step - loss: 0.2082 - acc: 0.9321 - val_loss: 0.7934 - val_acc: 0.7909\n",
            "Epoch 22/30\n",
            "542/543 [============================>.] - ETA: 0s - loss: 0.1963 - acc: 0.9356Epoch 1/30\n",
            "4410/543 [===================================================================================================================================================================================================================================================] - 1s 164us/sample - loss: 0.5824 - acc: 0.8079\n",
            "543/543 [==============================] - 28s 52ms/step - loss: 0.1964 - acc: 0.9356 - val_loss: 0.7598 - val_acc: 0.8079\n",
            "Epoch 23/30\n",
            "542/543 [============================>.] - ETA: 0s - loss: 0.1873 - acc: 0.9404Epoch 1/30\n",
            "4410/543 [===================================================================================================================================================================================================================================================] - 1s 161us/sample - loss: 0.5853 - acc: 0.8077\n",
            "543/543 [==============================] - 31s 57ms/step - loss: 0.1873 - acc: 0.9404 - val_loss: 0.7281 - val_acc: 0.8077\n",
            "Epoch 24/30\n",
            "542/543 [============================>.] - ETA: 0s - loss: 0.1836 - acc: 0.9404Epoch 1/30\n",
            "4410/543 [===================================================================================================================================================================================================================================================] - 1s 172us/sample - loss: 0.7026 - acc: 0.7980\n",
            "543/543 [==============================] - 30s 54ms/step - loss: 0.1837 - acc: 0.9403 - val_loss: 0.8347 - val_acc: 0.7980\n",
            "Epoch 25/30\n",
            "542/543 [============================>.] - ETA: 0s - loss: 0.1691 - acc: 0.9461Epoch 1/30\n",
            "4410/543 [===================================================================================================================================================================================================================================================] - 1s 159us/sample - loss: 0.6220 - acc: 0.7977\n",
            "543/543 [==============================] - 30s 54ms/step - loss: 0.1691 - acc: 0.9460 - val_loss: 0.7590 - val_acc: 0.7977\n",
            "Epoch 26/30\n",
            "542/543 [============================>.] - ETA: 0s - loss: 0.1673 - acc: 0.9449Epoch 1/30\n",
            "4410/543 [===================================================================================================================================================================================================================================================] - 1s 168us/sample - loss: 0.7558 - acc: 0.8057\n",
            "543/543 [==============================] - 30s 54ms/step - loss: 0.1673 - acc: 0.9449 - val_loss: 0.7943 - val_acc: 0.8057\n",
            "Epoch 27/30\n",
            "542/543 [============================>.] - ETA: 0s - loss: 0.1545 - acc: 0.9502Epoch 1/30\n",
            "4410/543 [===================================================================================================================================================================================================================================================] - 1s 163us/sample - loss: 0.5974 - acc: 0.8034\n",
            "543/543 [==============================] - 29s 54ms/step - loss: 0.1549 - acc: 0.9502 - val_loss: 0.7224 - val_acc: 0.8034\n",
            "Epoch 28/30\n",
            "542/543 [============================>.] - ETA: 0s - loss: 0.1583 - acc: 0.9472Epoch 1/30\n",
            "4410/543 [===================================================================================================================================================================================================================================================] - 1s 175us/sample - loss: 0.7082 - acc: 0.8054\n",
            "543/543 [==============================] - 30s 55ms/step - loss: 0.1582 - acc: 0.9473 - val_loss: 0.8350 - val_acc: 0.8054\n",
            "Epoch 29/30\n",
            "542/543 [============================>.] - ETA: 0s - loss: 0.1467 - acc: 0.9519Epoch 1/30\n",
            "4410/543 [===================================================================================================================================================================================================================================================] - 1s 165us/sample - loss: 0.5924 - acc: 0.8102\n",
            "543/543 [==============================] - 30s 54ms/step - loss: 0.1467 - acc: 0.9519 - val_loss: 0.7347 - val_acc: 0.8102\n",
            "Epoch 30/30\n",
            "542/543 [============================>.] - ETA: 0s - loss: 0.1389 - acc: 0.9559Epoch 1/30\n",
            "4410/543 [===================================================================================================================================================================================================================================================] - 1s 160us/sample - loss: 0.6292 - acc: 0.8220\n",
            "543/543 [==============================] - 29s 54ms/step - loss: 0.1389 - acc: 0.9560 - val_loss: 0.7603 - val_acc: 0.8220\n"
          ],
          "name": "stdout"
        }
      ]
    },
    {
      "cell_type": "code",
      "metadata": {
        "id": "3ueAcTA4Dn4V",
        "colab_type": "code",
        "colab": {}
      },
      "source": [
        "predictions = model.predict_classes(X_test, batch_size = batch_size)"
      ],
      "execution_count": 0,
      "outputs": []
    },
    {
      "cell_type": "code",
      "metadata": {
        "id": "ACLpXBCiGLg2",
        "colab_type": "code",
        "outputId": "bf212c88-c4d7-4f40-c92a-7aa35f31f674",
        "colab": {
          "base_uri": "https://localhost:8080/",
          "height": 34
        }
      },
      "source": [
        "predictions"
      ],
      "execution_count": 38,
      "outputs": [
        {
          "output_type": "execute_result",
          "data": {
            "text/plain": [
              "array([ 5, 10, 13, ...,  9, 15, 17])"
            ]
          },
          "metadata": {
            "tags": []
          },
          "execution_count": 38
        }
      ]
    },
    {
      "cell_type": "code",
      "metadata": {
        "id": "4BJtUrer7BN4",
        "colab_type": "code",
        "outputId": "47d5537a-67fc-4fb0-ea60-fa91eb0aa585",
        "colab": {
          "base_uri": "https://localhost:8080/",
          "height": 916
        }
      },
      "source": [
        "from sklearn.metrics import classification_report, confusion_matrix\n",
        "print(classification_report(y_test.argmax(axis=1), predictions))"
      ],
      "execution_count": 39,
      "outputs": [
        {
          "output_type": "stream",
          "text": [
            "              precision    recall  f1-score   support\n",
            "\n",
            "           0       0.71      0.68      0.69        60\n",
            "           1       0.86      0.85      0.86       720\n",
            "           2       0.77      0.86      0.81       750\n",
            "           3       0.84      0.86      0.85       450\n",
            "           4       0.93      0.91      0.92       660\n",
            "           5       0.74      0.85      0.79       630\n",
            "           6       0.76      0.88      0.82       150\n",
            "           7       0.95      0.79      0.86       450\n",
            "           8       0.93      0.84      0.88       450\n",
            "           9       0.97      0.94      0.95       480\n",
            "          10       0.95      0.94      0.94       660\n",
            "          11       0.88      0.86      0.87       420\n",
            "          12       0.91      0.86      0.88       690\n",
            "          13       0.95      0.98      0.97       720\n",
            "          14       1.00      1.00      1.00       270\n",
            "          15       0.95      0.97      0.96       210\n",
            "          16       0.94      1.00      0.97       150\n",
            "          17       1.00      0.78      0.87       360\n",
            "          18       0.91      0.79      0.85       390\n",
            "          19       0.27      0.57      0.37        60\n",
            "          20       0.29      0.24      0.27        90\n",
            "          21       0.68      0.61      0.64        90\n",
            "          22       0.86      0.80      0.83       120\n",
            "          23       0.41      0.67      0.51       150\n",
            "          24       0.80      0.73      0.76        90\n",
            "          25       0.92      0.88      0.90       480\n",
            "          26       0.93      0.92      0.92       180\n",
            "          27       0.53      0.43      0.48        60\n",
            "          28       0.67      0.91      0.78       150\n",
            "          29       0.67      0.77      0.72        90\n",
            "          30       0.76      0.46      0.57       150\n",
            "          31       0.94      0.77      0.85       270\n",
            "          32       0.75      0.87      0.81        60\n",
            "          33       0.85      0.89      0.87       210\n",
            "          34       0.84      0.99      0.91       120\n",
            "          35       0.93      0.96      0.95       390\n",
            "          36       0.60      0.71      0.65       120\n",
            "          37       0.77      0.28      0.41        60\n",
            "          38       0.86      0.93      0.89       690\n",
            "          39       0.85      0.58      0.69        90\n",
            "          40       0.72      0.91      0.80        90\n",
            "          41       0.67      0.92      0.77        60\n",
            "          42       0.80      0.43      0.56        90\n",
            "\n",
            "    accuracy                           0.85     12630\n",
            "   macro avg       0.80      0.79      0.78     12630\n",
            "weighted avg       0.86      0.85      0.86     12630\n",
            "\n"
          ],
          "name": "stdout"
        }
      ]
    },
    {
      "cell_type": "code",
      "metadata": {
        "id": "VBXNUqEa0FbQ",
        "colab_type": "code",
        "colab": {
          "base_uri": "https://localhost:8080/",
          "height": 1000
        },
        "outputId": "199ac235-e8a9-4681-a4de-bb763d48b17d"
      },
      "source": [
        "cm = confusion_matrix(y_test.argmax(axis = 1), predictions)\n",
        "np.set_printoptions(threshold=np.inf)\n",
        "print(cm)"
      ],
      "execution_count": 47,
      "outputs": [
        {
          "output_type": "stream",
          "text": [
            "[[ 41   5   1   0  11   0   0   0   2   0   0   0   0   0   0   0   0   0\n",
            "    0   0   0   0   0   0   0   0   0   0   0   0   0   0   0   0   0   0\n",
            "    0   0   0   0   0   0   0]\n",
            " [ 14 612  68   2   2  20   0   0   2   0   0   0   0   0   0   0   0   0\n",
            "    0   0   0   0   0   0   0   0   0   0   0   0   0   0   0   0   0   0\n",
            "    0   0   0   0   0   0   0]\n",
            " [  0  48 642  20   4  13   0   0   1   0   0   0   0   2   0  11   0   0\n",
            "    0   0   0   0   0   0   1   0   0   0   0   0   0   0   0   0   0   1\n",
            "    0   0   7   0   0   0   0]\n",
            " [  0   5  19 386   0  36   1   0   0   1   1   0   0   0   0   0   1   0\n",
            "    0   0   0   0   0   0   0   0   0   0   0   0   0   0   0   0   0   0\n",
            "    0   0   0   0   0   0   0]\n",
            " [  2  30  10   6 599   4   0   1   1   0   0   1   0   1   0   0   0   0\n",
            "    0   0   0   0   0   0   0   0   0   0   0   0   0   0   0   0   0   0\n",
            "    0   0   5   0   0   0   0]\n",
            " [  0   2  56  20   2 534   2   6   5   0   2   0   0   0   0   0   0   0\n",
            "    0   0   0   0   0   1   0   0   0   0   0   0   0   0   0   0   0   0\n",
            "    0   0   0   0   0   0   0]\n",
            " [  0   0   0   0   0   0 132   0   0   0   0   0   0   4   0   0   0   0\n",
            "    0   0   0   0   0   0   0   0   0   0   0   0   0   0   0   0   2   0\n",
            "    2   0   0   0   4   0   6]\n",
            " [  0   0   3  16   6  50   1 354  17   0   1   0   0   0   0   0   0   0\n",
            "    0   0   0   0   0   1   0   0   0   0   0   0   0   0   1   0   0   0\n",
            "    0   0   0   0   0   0   0]\n",
            " [  0   2   0   1  12  52   0   7 376   0   0   0   0   0   0   0   0   0\n",
            "    0   0   0   0   0   0   0   0   0   0   0   0   0   0   0   0   0   0\n",
            "    0   0   0   0   0   0   0]\n",
            " [  0   0   6   4   0   0   0   0   0 450  17   0   0   0   0   0   0   0\n",
            "    0   0   0   0   0   1   0   0   0   0   0   0   0   0   0   0   0   0\n",
            "    0   0   0   0   0   2   0]\n",
            " [  0   0   0   2   0   9   0   0   0  11 620   0   0   0   0   0   8   0\n",
            "    0   0   5   0   0   0   0   0   0   0   0   2   0   3   0   0   0   0\n",
            "    0   0   0   0   0   0   0]\n",
            " [  0   1  10   0   0   0   0   0   0   0   0 361   0   0   0   0   0   0\n",
            "    1   0   0   5   0  31   0   0   0   2   0   0   9   0   0   0   0   0\n",
            "    0   0   0   0   0   0   0]\n",
            " [  0   1   0   0   0   0   3   0   0   0   0   1 592  30   0   0   0   0\n",
            "   14   2   0   0   0   6   2   0   8   0   0   0   0   0   0   0   0   1\n",
            "    5   0  14   0   0  11   0]\n",
            " [  0   0   0   1   6   0   1   0   0   0   0   0   1 708   0   0   0   0\n",
            "    0   0   0   0   0   0   0   0   0   0   0   0   0   0   0   1   0   0\n",
            "    0   0   0   0   0   1   1]\n",
            " [  0   0   0   0   0   0   0   0   0   0   0   0   0   0 270   0   0   0\n",
            "    0   0   0   0   0   0   0   0   0   0   0   0   0   0   0   0   0   0\n",
            "    0   0   0   0   0   0   0]\n",
            " [  0   0   1   1   0   0   0   0   0   4   0   0   1   0   0 203   0   0\n",
            "    0   0   0   0   0   0   0   0   0   0   0   0   0   0   0   0   0   0\n",
            "    0   0   0   0   0   0   0]\n",
            " [  0   0   0   0   0   0   0   0   0   0   0   0   0   0   0   0 150   0\n",
            "    0   0   0   0   0   0   0   0   0   0   0   0   0   0   0   0   0   0\n",
            "    0   0   0   0   0   0   0]\n",
            " [  0   0   2   0   0   0   0   1   0   0  12   0  54   1   1   0   0 280\n",
            "    0   0   0   0   0   0   0   4   5   0   0   0   0   0   0   0   0   0\n",
            "    0   0   0   0   0   0   0]\n",
            " [  1   0   0   0   0   0   0   0   0   0   0  22   1   1   0   0   0   0\n",
            "  309   0   0   1   0   0   6   1   0  15   3   1  12   0   0   0   0  17\n",
            "    0   0   0   0   0   0   0]\n",
            " [  0   0   0   0   0   0   0   0   0   0   0   0   0   0   0   0   0   0\n",
            "    0  34   2   0   0  24   0   0   0   0   0   0   0   0   0   0   0   0\n",
            "    0   0   0   0   0   0   0]\n",
            " [  0   0   0   0   0   0   0   0   0   0   0   0   0   0   0   0   0   0\n",
            "    0  58  22   0   0   3   0   1   0   0   2   1   0   3   0   0   0   0\n",
            "    0   0   0   0   0   0   0]\n",
            " [  0   0   0   0   0   0   0   0   0   0   0   0   1   0   0   0   0   0\n",
            "    0   0   0  55   0  27   0   0   0   0   1   0   0   0   0   0   0   0\n",
            "    0   0   0   0   0   6   0]\n",
            " [  0   0   0   0   0   0   0   0   0   0   0   0   0   0   0   0   0   0\n",
            "    0   0   0   0  96   1   0  20   0   0   0   2   0   0   0   0   0   0\n",
            "    0   0   0   0   1   0   0]\n",
            " [  0   0   2   0   0   0   0   0   0   0   0   0   0   0   0   0   0   0\n",
            "    0  29  10   6   0 101   0   0   0   0   2   0   0   0   0   0   0   0\n",
            "    0   0   0   0   0   0   0]\n",
            " [  0   0   0   0   0   0   0   0   0   0   0   3   1   0   0   0   0   0\n",
            "    4   0   0   1   0   2  66   3   0   4   5   1   0   0   0   0   0   0\n",
            "    0   0   0   0   0   0   0]\n",
            " [  0   0   1   1   0   0   0   0   0   0   0   0   0   0   0   0   0   0\n",
            "    0   0   1   0   8   6   2 421   0   1  19  15   0   0   0   0   0   0\n",
            "    1   0   2   0   2   0   0]\n",
            " [  0   0   0   0   0   0   0   0   0   0   0   0   0   0   0   0   0   1\n",
            "   10   0   0   0   0   0   2   0 165   1   0   0   1   0   0   0   0   0\n",
            "    0   0   0   0   0   0   0]\n",
            " [  0   0  11   0   0   0   0   0   0   0   0   8   0   0   0   0   0   0\n",
            "    0   0   0   6   0   0   4   0   0  26   0   0   0   0   0   0   0   0\n",
            "    0   0   5   0   0   0   0]\n",
            " [  0   0   0   0   0   0   0   0   0   0   0   0   0   0   0   0   0   0\n",
            "    0   0   3   7   0   0   0   0   0   0 137   0   0   3   0   0   0   0\n",
            "    0   0   0   0   0   0   0]\n",
            " [  0   0   0   0   0   0   0   0   0   0   0   0   0   0   0   0   0   0\n",
            "    0   0   0   0   0   2   0   8   0   0  11  69   0   0   0   0   0   0\n",
            "    0   0   0   0   0   0   0]\n",
            " [  0   0   0   0   3   0   0   3   1   0   0  13   0   0   0   0   0   0\n",
            "    0   1   9   0   8   4   0   1   0   0  23  11  69   4   0   0   0   0\n",
            "    0   0   0   0   0   0   0]\n",
            " [  0   0   0   0   0   0   0   0   0   0   0   0   0   0   0   0   0   0\n",
            "    0   0  23   0   0  37   0   0   0   0   0   1   0 209   0   0   0   0\n",
            "    0   0   0   0   0   0   0]\n",
            " [  0   0   0   0   0   0   0   0   0   0   0   0   0   0   0   0   0   0\n",
            "    0   0   0   0   0   0   0   0   0   0   0   0   0   0  52   0   2   0\n",
            "    4   0   1   0   0   1   0]\n",
            " [  0   0   0   0   0   0   0   0   0   0   0   0   0   0   0   0   0   0\n",
            "    0   0   0   0   0   0   0   0   0   0   0   0   0   0   0 186  13   1\n",
            "    0   0   8   0   2   0   0]\n",
            " [  0   0   0   0   0   0   0   0   0   0   0   0   0   0   0   0   0   0\n",
            "    0   0   0   0   0   0   0   0   0   0   0   0   0   0   0   1 119   0\n",
            "    0   0   0   0   0   0   0]\n",
            " [  0   0   0   0   0   0   0   0   0   0   0   0   0   0   0   0   0   0\n",
            "    0   0   0   0   0   0   0   0   0   0   0   0   0   0   0   9   2 374\n",
            "    3   0   0   0   1   0   1]\n",
            " [  0   0   0   0   0   0   0   0   0   0   0   0   0   0   0   0   0   0\n",
            "    0   0   0   0   0   0   0   0   0   0   0   0   0   0   0   1   0   6\n",
            "   85   3  25   0   0   0   0]\n",
            " [  0   0   0   0   0   0   0   0   0   0   0   0   0   0   0   0   0   0\n",
            "    0   0   0   0   0   0   0   0   0   0   0   0   0   0   0   1   0   0\n",
            "   38  17   0   0   4   0   0]\n",
            " [  0   2   0   1   0   0   8   0   0   0   0   0   0   0   0   0   0   0\n",
            "    0   0   0   0   0   0   0   0   0   0   0   0   0   0   0  11   0   1\n",
            "    2   0 639   9  17   0   0]\n",
            " [  0   0   0   0   0   0   0   0   0   0   0   0   0   0   0   0   0   0\n",
            "    0   0   0   0   0   0   0   0   0   0   0   0   0   0   0   6   0   0\n",
            "    1   0  31  52   0   0   0]\n",
            " [  0   0   0   0   0   0   0   0   0   0   0   1   0   0   0   0   0   0\n",
            "    0   0   0   0   0   0   0   0   0   0   0   0   0   0   0   0   0   0\n",
            "    1   2   4   0  82   0   0]\n",
            " [  0   0   0   0   0   0   1   0   0   0   0   0   0   0   0   0   0   0\n",
            "    0   0   0   0   0   0   0   0   0   0   0   0   0   0   2   0   0   0\n",
            "    0   0   0   0   0  55   2]\n",
            " [  0   0   0   0   0   0  24   0   0   0   0   0   0   0   0   0   0   0\n",
            "    0   0   0   0   0   0   0   0   0   0   0   0   0   0  14   3   3   0\n",
            "    0   0   0   0   1   6  39]]\n"
          ],
          "name": "stdout"
        }
      ]
    },
    {
      "cell_type": "code",
      "metadata": {
        "id": "hemM2_0FJ2I6",
        "colab_type": "code",
        "outputId": "f660b9ef-05d8-4d31-e75c-88c188cfa062",
        "colab": {
          "base_uri": "https://localhost:8080/",
          "height": 34
        }
      },
      "source": [
        "len(X_test)"
      ],
      "execution_count": 40,
      "outputs": [
        {
          "output_type": "execute_result",
          "data": {
            "text/plain": [
              "12630"
            ]
          },
          "metadata": {
            "tags": []
          },
          "execution_count": 40
        }
      ]
    },
    {
      "cell_type": "code",
      "metadata": {
        "id": "KgTpRgW0_g1s",
        "colab_type": "code",
        "outputId": "6299c1ce-b507-48b4-eea6-202c8b39dba8",
        "colab": {
          "base_uri": "https://localhost:8080/",
          "height": 283
        }
      },
      "source": [
        "i = 1234\n",
        "result1 = model.predict_classes(X_test[i:i+1])\n",
        "plt.imshow(X_test[i], cmap = plt.cm.binary)\n",
        "print(\"My prediction: \",labels[int(result1)])"
      ],
      "execution_count": 41,
      "outputs": [
        {
          "output_type": "stream",
          "text": [
            "My prediction:  General caution\n"
          ],
          "name": "stdout"
        },
        {
          "output_type": "display_data",
          "data": {
            "image/png": "[encoded data removed]",
            "text/plain": [
              "<Figure size 432x288 with 1 Axes>"
            ]
          },
          "metadata": {
            "tags": []
          }
        }
      ]
    },
    {
      "cell_type": "code",
      "metadata": {
        "id": "3zbS1r-lPf3e",
        "colab_type": "code",
        "outputId": "41f050bc-9c1b-408d-aa72-e6ace81b307a",
        "colab": {
          "base_uri": "https://localhost:8080/",
          "height": 313
        }
      },
      "source": [
        "n = np.arange(0, num_epochs)\n",
        "plt.plot(n, history.history[\"loss\"], label=\"train_loss\")\n",
        "plt.plot(n, history.history[\"val_loss\"], label=\"val_loss\")\n",
        "plt.plot(n, history.history[\"acc\"], label=\"train_acc\")\n",
        "plt.plot(n, history.history[\"val_acc\"], label=\"val_acc\")\n",
        "plt.title(\"Curve\")\n",
        "plt.xlabel(\"Epochs\")\n",
        "plt.ylabel(\"Loss/Accuracy\")\n",
        "plt.legend(loc=\"lower left\")"
      ],
      "execution_count": 43,
      "outputs": [
        {
          "output_type": "execute_result",
          "data": {
            "text/plain": [
              "<matplotlib.legend.Legend at 0x7f3b87661e80>"
            ]
          },
          "metadata": {
            "tags": []
          },
          "execution_count": 43
        },
        {
          "output_type": "display_data",
          "data": {
            "image/png": "[encoded data removed]",
            "text/plain": [
              "<Figure size 432x288 with 1 Axes>"
            ]
          },
          "metadata": {
            "tags": []
          }
        }
      ]
    },
    {
      "cell_type": "code",
      "metadata": {
        "id": "rjwVEbgFypyv",
        "colab_type": "code",
        "colab": {}
      },
      "source": [
        ""
      ],
      "execution_count": 0,
      "outputs": []
    }
  ]
}